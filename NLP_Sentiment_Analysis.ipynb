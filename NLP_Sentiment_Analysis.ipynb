{
  "nbformat": 4,
  "nbformat_minor": 0,
  "metadata": {
    "colab": {
      "name": "NLP_Sentiment_Analysis.ipynb",
      "provenance": [],
      "authorship_tag": "ABX9TyNMqe5WLagOwGvTjA+ijaWm",
      "include_colab_link": true
    },
    "kernelspec": {
      "name": "python3",
      "display_name": "Python 3"
    }
  },
  "cells": [
    {
      "cell_type": "markdown",
      "metadata": {
        "id": "view-in-github",
        "colab_type": "text"
      },
      "source": [
        "<a href=\"https://colab.research.google.com/github/AkshadK7/AK-Chatnet/blob/master/NLP_Sentiment_Analysis.ipynb\" target=\"_parent\"><img src=\"https://colab.research.google.com/assets/colab-badge.svg\" alt=\"Open In Colab\"/></a>"
      ]
    },
    {
      "cell_type": "code",
      "metadata": {
        "id": "tABkKDtBNUhG",
        "colab_type": "code",
        "colab": {}
      },
      "source": [
        "# Getting the sentiment of text from a website"
      ],
      "execution_count": 0,
      "outputs": []
    },
    {
      "cell_type": "code",
      "metadata": {
        "id": "VIxCx3yuOfR6",
        "colab_type": "code",
        "colab": {
          "base_uri": "https://localhost:8080/",
          "height": 840
        },
        "outputId": "8e9a834c-8f55-4d76-c177-87b6940867cf"
      },
      "source": [
        "pip install newspaper3k"
      ],
      "execution_count": 2,
      "outputs": [
        {
          "output_type": "stream",
          "text": [
            "Collecting newspaper3k\n",
            "\u001b[?25l  Downloading https://files.pythonhosted.org/packages/d7/b9/51afecb35bb61b188a4b44868001de348a0e8134b4dfa00ffc191567c4b9/newspaper3k-0.2.8-py3-none-any.whl (211kB)\n",
            "\r\u001b[K     |█▌                              | 10kB 11.9MB/s eta 0:00:01\r\u001b[K     |███                             | 20kB 1.5MB/s eta 0:00:01\r\u001b[K     |████▋                           | 30kB 1.9MB/s eta 0:00:01\r\u001b[K     |██████▏                         | 40kB 1.5MB/s eta 0:00:01\r\u001b[K     |███████▊                        | 51kB 1.8MB/s eta 0:00:01\r\u001b[K     |█████████▎                      | 61kB 2.1MB/s eta 0:00:01\r\u001b[K     |██████████▉                     | 71kB 2.3MB/s eta 0:00:01\r\u001b[K     |████████████▍                   | 81kB 2.5MB/s eta 0:00:01\r\u001b[K     |██████████████                  | 92kB 2.7MB/s eta 0:00:01\r\u001b[K     |███████████████▌                | 102kB 2.6MB/s eta 0:00:01\r\u001b[K     |█████████████████               | 112kB 2.6MB/s eta 0:00:01\r\u001b[K     |██████████████████▋             | 122kB 2.6MB/s eta 0:00:01\r\u001b[K     |████████████████████▏           | 133kB 2.6MB/s eta 0:00:01\r\u001b[K     |█████████████████████▊          | 143kB 2.6MB/s eta 0:00:01\r\u001b[K     |███████████████████████▎        | 153kB 2.6MB/s eta 0:00:01\r\u001b[K     |████████████████████████▉       | 163kB 2.6MB/s eta 0:00:01\r\u001b[K     |██████████████████████████▍     | 174kB 2.6MB/s eta 0:00:01\r\u001b[K     |████████████████████████████    | 184kB 2.6MB/s eta 0:00:01\r\u001b[K     |█████████████████████████████▌  | 194kB 2.6MB/s eta 0:00:01\r\u001b[K     |███████████████████████████████ | 204kB 2.6MB/s eta 0:00:01\r\u001b[K     |████████████████████████████████| 215kB 2.6MB/s \n",
            "\u001b[?25hCollecting cssselect>=0.9.2\n",
            "  Downloading https://files.pythonhosted.org/packages/3b/d4/3b5c17f00cce85b9a1e6f91096e1cc8e8ede2e1be8e96b87ce1ed09e92c5/cssselect-1.1.0-py2.py3-none-any.whl\n",
            "Requirement already satisfied: nltk>=3.2.1 in /usr/local/lib/python3.6/dist-packages (from newspaper3k) (3.2.5)\n",
            "Requirement already satisfied: requests>=2.10.0 in /usr/local/lib/python3.6/dist-packages (from newspaper3k) (2.23.0)\n",
            "Collecting jieba3k>=0.35.1\n",
            "\u001b[?25l  Downloading https://files.pythonhosted.org/packages/a9/cb/2c8332bcdc14d33b0bedd18ae0a4981a069c3513e445120da3c3f23a8aaa/jieba3k-0.35.1.zip (7.4MB)\n",
            "\u001b[K     |████████████████████████████████| 7.4MB 7.6MB/s \n",
            "\u001b[?25hRequirement already satisfied: PyYAML>=3.11 in /usr/local/lib/python3.6/dist-packages (from newspaper3k) (3.13)\n",
            "Collecting tldextract>=2.0.1\n",
            "\u001b[?25l  Downloading https://files.pythonhosted.org/packages/fd/0e/9ab599d6e78f0340bb1d1e28ddeacb38c8bb7f91a1b0eae9a24e9603782f/tldextract-2.2.2-py2.py3-none-any.whl (48kB)\n",
            "\u001b[K     |████████████████████████████████| 51kB 5.1MB/s \n",
            "\u001b[?25hCollecting feedfinder2>=0.0.4\n",
            "  Downloading https://files.pythonhosted.org/packages/35/82/1251fefec3bb4b03fd966c7e7f7a41c9fc2bb00d823a34c13f847fd61406/feedfinder2-0.0.4.tar.gz\n",
            "Requirement already satisfied: python-dateutil>=2.5.3 in /usr/local/lib/python3.6/dist-packages (from newspaper3k) (2.8.1)\n",
            "Requirement already satisfied: Pillow>=3.3.0 in /usr/local/lib/python3.6/dist-packages (from newspaper3k) (7.0.0)\n",
            "Collecting feedparser>=5.2.1\n",
            "\u001b[?25l  Downloading https://files.pythonhosted.org/packages/91/d8/7d37fec71ff7c9dbcdd80d2b48bcdd86d6af502156fc93846fb0102cb2c4/feedparser-5.2.1.tar.bz2 (192kB)\n",
            "\u001b[K     |████████████████████████████████| 194kB 38.9MB/s \n",
            "\u001b[?25hRequirement already satisfied: beautifulsoup4>=4.4.1 in /usr/local/lib/python3.6/dist-packages (from newspaper3k) (4.6.3)\n",
            "Requirement already satisfied: lxml>=3.6.0 in /usr/local/lib/python3.6/dist-packages (from newspaper3k) (4.2.6)\n",
            "Collecting tinysegmenter==0.3\n",
            "  Downloading https://files.pythonhosted.org/packages/17/82/86982e4b6d16e4febc79c2a1d68ee3b707e8a020c5d2bc4af8052d0f136a/tinysegmenter-0.3.tar.gz\n",
            "Requirement already satisfied: six in /usr/local/lib/python3.6/dist-packages (from nltk>=3.2.1->newspaper3k) (1.12.0)\n",
            "Requirement already satisfied: idna<3,>=2.5 in /usr/local/lib/python3.6/dist-packages (from requests>=2.10.0->newspaper3k) (2.9)\n",
            "Requirement already satisfied: urllib3!=1.25.0,!=1.25.1,<1.26,>=1.21.1 in /usr/local/lib/python3.6/dist-packages (from requests>=2.10.0->newspaper3k) (1.24.3)\n",
            "Requirement already satisfied: certifi>=2017.4.17 in /usr/local/lib/python3.6/dist-packages (from requests>=2.10.0->newspaper3k) (2020.4.5.1)\n",
            "Requirement already satisfied: chardet<4,>=3.0.2 in /usr/local/lib/python3.6/dist-packages (from requests>=2.10.0->newspaper3k) (3.0.4)\n",
            "Collecting requests-file>=1.4\n",
            "  Downloading https://files.pythonhosted.org/packages/77/86/cdb5e8eaed90796aa83a6d9f75cfbd37af553c47a291cd47bc410ef9bdb2/requests_file-1.5.1-py2.py3-none-any.whl\n",
            "Requirement already satisfied: setuptools in /usr/local/lib/python3.6/dist-packages (from tldextract>=2.0.1->newspaper3k) (47.1.1)\n",
            "Building wheels for collected packages: jieba3k, feedfinder2, feedparser, tinysegmenter\n",
            "  Building wheel for jieba3k (setup.py) ... \u001b[?25l\u001b[?25hdone\n",
            "  Created wheel for jieba3k: filename=jieba3k-0.35.1-cp36-none-any.whl size=7398406 sha256=f487684bf56603a3a846167f134495119a31fd7288a8db1505234a6b62d5c757\n",
            "  Stored in directory: /root/.cache/pip/wheels/83/15/9c/a3f1f67e7f7181170ad37d32e503c35da20627c013f438ed34\n",
            "  Building wheel for feedfinder2 (setup.py) ... \u001b[?25l\u001b[?25hdone\n",
            "  Created wheel for feedfinder2: filename=feedfinder2-0.0.4-cp36-none-any.whl size=3357 sha256=f0841ed5602eb4bb5af8fa3b3c16b41d2604c75760b5a048c09aad681d93ac57\n",
            "  Stored in directory: /root/.cache/pip/wheels/de/03/ca/778e3a7a627e3d98836cc890e7cb40c7575424cfd3340f40ed\n",
            "  Building wheel for feedparser (setup.py) ... \u001b[?25l\u001b[?25hdone\n",
            "  Created wheel for feedparser: filename=feedparser-5.2.1-cp36-none-any.whl size=44940 sha256=0fb8b4742444093833381f394c534f48fea91753285942092955943552466a74\n",
            "  Stored in directory: /root/.cache/pip/wheels/8c/69/b7/f52763c41c5471df57703a0ef718a32a5e81ee35dcf6d4f97f\n",
            "  Building wheel for tinysegmenter (setup.py) ... \u001b[?25l\u001b[?25hdone\n",
            "  Created wheel for tinysegmenter: filename=tinysegmenter-0.3-cp36-none-any.whl size=13539 sha256=18d597a37fb9f15f5a5e9a2606fdfcd558b7450436b747f582ca3ca53fe3adfa\n",
            "  Stored in directory: /root/.cache/pip/wheels/81/2b/43/a02ede72324dd40cdd7ca53aad718c7710628e91b8b0dc0f02\n",
            "Successfully built jieba3k feedfinder2 feedparser tinysegmenter\n",
            "Installing collected packages: cssselect, jieba3k, requests-file, tldextract, feedfinder2, feedparser, tinysegmenter, newspaper3k\n",
            "Successfully installed cssselect-1.1.0 feedfinder2-0.0.4 feedparser-5.2.1 jieba3k-0.35.1 newspaper3k-0.2.8 requests-file-1.5.1 tinysegmenter-0.3 tldextract-2.2.2\n"
          ],
          "name": "stdout"
        }
      ]
    },
    {
      "cell_type": "code",
      "metadata": {
        "id": "-y1KikxIOvhJ",
        "colab_type": "code",
        "colab": {}
      },
      "source": [
        "# Importing the Libraries\n",
        "from textblob import TextBlob\n",
        "import nltk\n",
        "from newspaper import Article"
      ],
      "execution_count": 0,
      "outputs": []
    },
    {
      "cell_type": "code",
      "metadata": {
        "id": "DJivRXWvPH4P",
        "colab_type": "code",
        "colab": {}
      },
      "source": [
        "# Getting the Article\n",
        "#url = 'https://everythingcomputerscience.com'       #------Some Random URL for neutral check--------\n",
        "url  = 'https://www.macmillandictionary.com/thesaurus-category/british/something-that-is-of-very-bad-quality'   #------Some Random URL for -ve check------\n",
        "article = Article(url)"
      ],
      "execution_count": 0,
      "outputs": []
    },
    {
      "cell_type": "code",
      "metadata": {
        "id": "OnHyzJ8DPh_x",
        "colab_type": "code",
        "colab": {
          "base_uri": "https://localhost:8080/",
          "height": 50
        },
        "outputId": "97333108-2fc6-4a54-ad14-3edb68304acb"
      },
      "source": [
        "# Doing some NLP\n",
        "article.download()\n",
        "article.parse()\n",
        "nltk.download('punkt')\n",
        "article.nlp()"
      ],
      "execution_count": 19,
      "outputs": [
        {
          "output_type": "stream",
          "text": [
            "[nltk_data] Downloading package punkt to /root/nltk_data...\n",
            "[nltk_data]   Package punkt is already up-to-date!\n"
          ],
          "name": "stdout"
        }
      ]
    },
    {
      "cell_type": "code",
      "metadata": {
        "id": "Me17l06cQAL5",
        "colab_type": "code",
        "colab": {
          "base_uri": "https://localhost:8080/",
          "height": 54
        },
        "outputId": "83fb63b8-1880-431c-b090-58851825a3ff"
      },
      "source": [
        "# Getting the Summary of the Article\n",
        "text = article.summary\n",
        "\n",
        "print(text)"
      ],
      "execution_count": 20,
      "outputs": [
        {
          "output_type": "stream",
          "text": [
            "Synonymsrubbish noun something that is useless, of no value, or of very low qualityreject noun someone or something that is not accepted because they have not reached the necessary standardtrash noun informal something that you think is of very bad quality, especially something such as a film, television programme, or bookdross noun something that is of very poor qualityparody noun something done so badly that it seems like a parodyshocker noun informalBritish something that is of very bad qualitydog noun mainly Americaninformal something that is of bad quality or very unsuccessfulshit noun impolite something that you do not like or think is of very bad quality\n"
          ],
          "name": "stdout"
        }
      ]
    },
    {
      "cell_type": "code",
      "metadata": {
        "id": "xpmusbJYQhNX",
        "colab_type": "code",
        "colab": {
          "base_uri": "https://localhost:8080/",
          "height": 34
        },
        "outputId": "2fe9c575-78ea-4851-cc0d-831892ea59b4"
      },
      "source": [
        "# Create a TextBlob Object\n",
        "obj = TextBlob(text)\n",
        "\n",
        "#This will return a value between -1 and +1\n",
        "sentiment = obj.sentiment.polarity\n",
        "print(sentiment)"
      ],
      "execution_count": 21,
      "outputs": [
        {
          "output_type": "stream",
          "text": [
            "-0.36794871794871786\n"
          ],
          "name": "stdout"
        }
      ]
    },
    {
      "cell_type": "code",
      "metadata": {
        "id": "N561O_sPRNgD",
        "colab_type": "code",
        "colab": {
          "base_uri": "https://localhost:8080/",
          "height": 34
        },
        "outputId": "8a16e9f3-bd03-4758-aaf7-19ae27bdf1eb"
      },
      "source": [
        "if sentiment == 0:\n",
        "  print('The Text is Neutral')\n",
        "elif sentiment > 0:\n",
        "  print('The Text is Positive')\n",
        "else:\n",
        "  print('The Text is Negative')"
      ],
      "execution_count": 22,
      "outputs": [
        {
          "output_type": "stream",
          "text": [
            "The Text is Negative\n"
          ],
          "name": "stdout"
        }
      ]
    }
  ]
}